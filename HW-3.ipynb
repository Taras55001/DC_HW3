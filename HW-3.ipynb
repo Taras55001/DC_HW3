{
 "cells": [
  {
   "cell_type": "code",
   "execution_count": 2,
   "id": "afe2cb2f-a05f-4c82-9be0-ce7c9de60e32",
   "metadata": {},
   "outputs": [],
   "source": [
    "#напишіть функцію гіпотези лінійної регресії у векторному вигляді;\n",
    "import numpy as np\n",
    "\n",
    "def h(W, X): \n",
    "    return np.dot(X , W)"
   ]
  },
  {
   "cell_type": "code",
   "execution_count": null,
   "id": "6e774951-4be7-498d-b34c-422deb980d88",
   "metadata": {},
   "outputs": [],
   "source": [
    "#створіть функцію для обчислення функції втрат у векторному вигляді;\n"
   ]
  },
  {
   "cell_type": "code",
   "execution_count": null,
   "id": "7747ec6e-d339-4ba0-9101-78f3edcb757a",
   "metadata": {},
   "outputs": [],
   "source": [
    "#реалізуйте один крок градієнтного спуску;\n"
   ]
  },
  {
   "cell_type": "code",
   "execution_count": null,
   "id": "93ea3d4c-731f-4d4b-bad2-c226785935be",
   "metadata": {},
   "outputs": [],
   "source": [
    "#знайдіть найкращі параметри w для датасету прогнозуючу ціну на будинок залежно від площі, кількості ванних кімнат та кількості спалень;\n"
   ]
  },
  {
   "cell_type": "code",
   "execution_count": null,
   "id": "9f72f78c-975b-4b56-90e2-75aced91794e",
   "metadata": {},
   "outputs": [],
   "source": [
    "#знайдіть ці ж параметри за допомогою аналітичного рішення;\n"
   ]
  },
  {
   "cell_type": "code",
   "execution_count": null,
   "id": "f32b0347-c973-464f-be88-f6aa7466d21a",
   "metadata": {},
   "outputs": [],
   "source": [
    "#порівняйте отримані результати.\n"
   ]
  }
 ],
 "metadata": {
  "kernelspec": {
   "display_name": "Python 3 (ipykernel)",
   "language": "python",
   "name": "python3"
  },
  "language_info": {
   "codemirror_mode": {
    "name": "ipython",
    "version": 3
   },
   "file_extension": ".py",
   "mimetype": "text/x-python",
   "name": "python",
   "nbconvert_exporter": "python",
   "pygments_lexer": "ipython3",
   "version": "3.11.1"
  }
 },
 "nbformat": 4,
 "nbformat_minor": 5
}
